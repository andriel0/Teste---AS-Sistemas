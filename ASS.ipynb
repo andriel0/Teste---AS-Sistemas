{
 "cells": [
  {
   "cell_type": "code",
   "execution_count": null,
   "id": "03795913",
   "metadata": {},
   "outputs": [],
   "source": [
    "{\n",
    " \"cells\": [\n",
    "  {\n",
    "   \"cell_type\": \"markdown\",\n",
    "   \"id\": \"44cbabb4-7434-4eeb-918e-5afb79c65c0d\",\n",
    "   \"metadata\": {},\n",
    "   \"source\": [\n",
    "    \"# Teste Pandas para vaga na A.S Sistemas\"\n",
    "   ]\n",
    "  },\n",
    "  {\n",
    "   \"cell_type\": \"markdown\",\n",
    "   \"id\": \"5d800535-f63b-4825-a381-1fa655db93f2\",\n",
    "   \"metadata\": {},\n",
    "   \"source\": [\n",
    "    \"<h4>Pandas é uma biblioteca para uso em Python, open-source e de uso gratuito (sob uma licença BSD), que fornece ferramentas para análise e manipulação de dados.<h4>\"\n",
    "   ]\n",
    "  },\n",
    "  {\n",
    "   \"cell_type\": \"code\",\n",
    "   \"execution_count\": 1,\n",
    "   \"id\": \"93096517-8d7e-49a7-80dd-87df5d627f6a\",\n",
    "   \"metadata\": {},\n",
    "   \"outputs\": [],\n",
    "   \"source\": [\n",
    "    \"import pandas as pd\"\n",
    "   ]\n",
    "  },\n",
    "  {\n",
    "   \"cell_type\": \"markdown\",\n",
    "   \"id\": \"9e3f9abc-34ea-4f5c-8ded-3dd76b0d60e9\",\n",
    "   \"metadata\": {},\n",
    "   \"source\": [\n",
    "    \"### <bold>**1 - Como criar novas colunas derivadas de colunas existentes no Pandas?**\"\n",
    "   ]\n",
    "  },\n",
    "  {\n",
    "   \"cell_type\": \"code\",\n",
    "   \"execution_count\": 2,\n",
    "   \"id\": \"7e8ea95d-57c7-404b-b0e9-98546d03e3c6\",\n",
    "   \"metadata\": {},\n",
    "   \"outputs\": [],\n",
    "   \"source\": [\n",
    "    \"# Crie uma terceira coluna\\n\",\n",
    "    \"df = pd.DataFrame({\\n\",\n",
    "    \"  \\\"A\\\": [420, 380, 390],\\n\",\n",
    "    \"  \\\"B\\\": [50, 40, 45]\\n\",\n",
    "    \"})\"\n",
    "   ]\n",
    "  },\n",
    "  {\n",
    "   \"cell_type\": \"markdown\",\n",
    "   \"id\": \"1ba25922-ec12-4939-8f46-7e04fb61d3a6\",\n",
    "   \"metadata\": {\n",
    "    \"tags\": []\n",
    "   },\n",
    "   \"source\": [\n",
    "    \"### **2 - Qual a diferença de iloc () e loc ()?**\"\n",
    "   ]\n",
    "  },\n",
    "  {\n",
    "   \"cell_type\": \"code\",\n",
    "   \"execution_count\": null,\n",
    "   \"id\": \"96bf870a-2d35-470a-8fbe-d2dce9a8f67c\",\n",
    "   \"metadata\": {},\n",
    "   \"outputs\": [],\n",
    "   \"source\": []\n",
    "  },\n",
    "  {\n",
    "   \"cell_type\": \"markdown\",\n",
    "   \"id\": \"c1078e33-0519-49c4-a4aa-7e426e4fc9c3\",\n",
    "   \"metadata\": {},\n",
    "   \"source\": [\n",
    "    \"### **3 - Quais são as operações em que o método groupby do Pandas é baseado?**\"\n",
    "   ]\n",
    "  },\n",
    "  {\n",
    "   \"cell_type\": \"code\",\n",
    "   \"execution_count\": null,\n",
    "   \"id\": \"70101521-c535-410d-bdaa-2e3f96862e93\",\n",
    "   \"metadata\": {},\n",
    "   \"outputs\": [],\n",
    "   \"source\": []\n",
    "  },\n",
    "  {\n",
    "   \"cell_type\": \"markdown\",\n",
    "   \"id\": \"5bc27cbd-9f18-43c0-85c3-23eae4036d0e\",\n",
    "   \"metadata\": {},\n",
    "   \"source\": [\n",
    "    \"### **4 - Descreva como você obterá os nomes das colunas de um DataFrame em Pandas**\"\n",
    "   ]\n",
    "  },\n",
    "  {\n",
    "   \"cell_type\": \"code\",\n",
    "   \"execution_count\": null,\n",
    "   \"id\": \"02cf57a1-11a7-439d-878d-eb60a7b15b1a\",\n",
    "   \"metadata\": {},\n",
    "   \"outputs\": [],\n",
    "   \"source\": []\n",
    "  },\n",
    "  {\n",
    "   \"cell_type\": \"markdown\",\n",
    "   \"id\": \"d135006b-4592-4f62-b9fe-25c264373c24\",\n",
    "   \"metadata\": {},\n",
    "   \"source\": [\n",
    "    \"### **5 - Como você iteraria sobre linhas em um DataFrame no Pandas?**\"\n",
    "   ]\n",
    "  },\n",
    "  {\n",
    "   \"cell_type\": \"code\",\n",
    "   \"execution_count\": null,\n",
    "   \"id\": \"d6322590-d44d-46f5-be91-1bd5a55be815\",\n",
    "   \"metadata\": {},\n",
    "   \"outputs\": [],\n",
    "   \"source\": []\n",
    "  },\n",
    "  {\n",
    "   \"cell_type\": \"markdown\",\n",
    "   \"id\": \"45a57d02-882f-4e9f-bdf4-65923607d821\",\n",
    "   \"metadata\": {},\n",
    "   \"source\": [\n",
    "    \"### **6 - No Pandas, o que você entende como um gráfico de barras e como você pode gerar uma visualização de gráfico de barras?**\"\n",
    "   ]\n",
    "  },\n",
    "  {\n",
    "   \"cell_type\": \"code\",\n",
    "   \"execution_count\": null,\n",
    "   \"id\": \"ab1c3024-ec78-4ac3-8688-1ec47e7b434c\",\n",
    "   \"metadata\": {},\n",
    "   \"outputs\": [],\n",
    "   \"source\": []\n",
    "  },\n",
    "  {\n",
    "   \"cell_type\": \"markdown\",\n",
    "   \"id\": \"a0c425e5-0cd6-4d73-9f15-39fdf4b704dd\",\n",
    "   \"metadata\": {},\n",
    "   \"source\": [\n",
    "    \"### **7 - Como verificar se um DataFrame está vazio?**\"\n",
    "   ]\n",
    "  },\n",
    "  {\n",
    "   \"cell_type\": \"code\",\n",
    "   \"execution_count\": null,\n",
    "   \"id\": \"d86e7274-677c-44b6-87f7-72fa2234011f\",\n",
    "   \"metadata\": {},\n",
    "   \"outputs\": [],\n",
    "   \"source\": []\n",
    "  },\n",
    "  {\n",
    "   \"cell_type\": \"markdown\",\n",
    "   \"id\": \"0f4f7a05-e747-4bf0-b3f5-e4fb2cd2b135\",\n",
    "   \"metadata\": {},\n",
    "   \"source\": [\n",
    "    \"### **8 - Defina as diferentes maneiras pelas quais um DataFrame pode ser criado no Pandas?**\"\n",
    "   ]\n",
    "  },\n",
    "  {\n",
    "   \"cell_type\": \"code\",\n",
    "   \"execution_count\": null,\n",
    "   \"id\": \"9e686849-9dca-482e-aaa5-c00421ce6fd1\",\n",
    "   \"metadata\": {},\n",
    "   \"outputs\": [],\n",
    "   \"source\": []\n",
    "  },\n",
    "  {\n",
    "   \"cell_type\": \"markdown\",\n",
    "   \"id\": \"419a09ed-a71f-4152-a369-692310245a4f\",\n",
    "   \"metadata\": {},\n",
    "   \"source\": [\n",
    "    \"### **9 - Por que fazer uma cópia de um DataFrame em Pandas?**\"\n",
    "   ]\n",
    "  },\n",
    "  {\n",
    "   \"cell_type\": \"code\",\n",
    "   \"execution_count\": null,\n",
    "   \"id\": \"09d4ab3e-1e8b-44d5-b409-13ad8c01b4c4\",\n",
    "   \"metadata\": {},\n",
    "   \"outputs\": [],\n",
    "   \"source\": []\n",
    "  },\n",
    "  {\n",
    "   \"cell_type\": \"markdown\",\n",
    "   \"id\": \"3b2fe130-fe68-4f3b-933d-fb27b5e787fe\",\n",
    "   \"metadata\": {},\n",
    "   \"source\": [\n",
    "    \"### **10 - O que o operador in faz nos Pandas?**\"\n",
    "   ]\n",
    "  },\n",
    "  {\n",
    "   \"cell_type\": \"code\",\n",
    "   \"execution_count\": null,\n",
    "   \"id\": \"b775fe6f-dcbb-45ae-bba8-df5b87ad8ab6\",\n",
    "   \"metadata\": {},\n",
    "   \"outputs\": [],\n",
    "   \"source\": []\n",
    "  }\n",
    " ],\n",
    " \"metadata\": {\n",
    "  \"kernelspec\": {\n",
    "   \"display_name\": \"Python 3 (ipykernel)\",\n",
    "   \"language\": \"python\",\n",
    "   \"name\": \"python3\"\n",
    "  },\n",
    "  \"language_info\": {\n",
    "   \"codemirror_mode\": {\n",
    "    \"name\": \"ipython\",\n",
    "    \"version\": 3\n",
    "   },\n",
    "   \"file_extension\": \".py\",\n",
    "   \"mimetype\": \"text/x-python\",\n",
    "   \"name\": \"python\",\n",
    "   \"nbconvert_exporter\": \"python\",\n",
    "   \"pygments_lexer\": \"ipython3\",\n",
    "   \"version\": \"3.10.6\"\n",
    "  }\n",
    " },\n",
    " \"nbformat\": 4,\n",
    " \"nbformat_minor\": 5\n",
    "}\n"
   ]
  },
  {
   "cell_type": "markdown",
   "id": "8068e135",
   "metadata": {},
   "source": [
    "# Teste Pandas para vaga na A.S Sistemas"
   ]
  },
  {
   "cell_type": "markdown",
   "id": "26595c47",
   "metadata": {},
   "source": [
    "#### Pandas é uma biblioteca para uso em Python, open-source e de uso gratuito (sob uma licença BSD), que fornece ferramentas para análise e manipulação de dados."
   ]
  },
  {
   "cell_type": "code",
   "execution_count": 1,
   "id": "bc6348ec",
   "metadata": {},
   "outputs": [],
   "source": [
    "import pandas as pd"
   ]
  },
  {
   "cell_type": "markdown",
   "id": "6e43f66a",
   "metadata": {},
   "source": [
    "### **1 - Como criar novas colunas derivadas de colunas existentes no Pandas?**"
   ]
  },
  {
   "cell_type": "code",
   "execution_count": 2,
   "id": "137be805",
   "metadata": {},
   "outputs": [
    {
     "data": {
      "text/html": [
       "<div>\n",
       "<style scoped>\n",
       "    .dataframe tbody tr th:only-of-type {\n",
       "        vertical-align: middle;\n",
       "    }\n",
       "\n",
       "    .dataframe tbody tr th {\n",
       "        vertical-align: top;\n",
       "    }\n",
       "\n",
       "    .dataframe thead th {\n",
       "        text-align: right;\n",
       "    }\n",
       "</style>\n",
       "<table border=\"1\" class=\"dataframe\">\n",
       "  <thead>\n",
       "    <tr style=\"text-align: right;\">\n",
       "      <th></th>\n",
       "      <th>A</th>\n",
       "      <th>B</th>\n",
       "      <th>C</th>\n",
       "    </tr>\n",
       "  </thead>\n",
       "  <tbody>\n",
       "    <tr>\n",
       "      <th>0</th>\n",
       "      <td>420</td>\n",
       "      <td>50</td>\n",
       "      <td>470</td>\n",
       "    </tr>\n",
       "    <tr>\n",
       "      <th>1</th>\n",
       "      <td>380</td>\n",
       "      <td>40</td>\n",
       "      <td>420</td>\n",
       "    </tr>\n",
       "    <tr>\n",
       "      <th>2</th>\n",
       "      <td>390</td>\n",
       "      <td>45</td>\n",
       "      <td>435</td>\n",
       "    </tr>\n",
       "  </tbody>\n",
       "</table>\n",
       "</div>"
      ],
      "text/plain": [
       "     A   B    C\n",
       "0  420  50  470\n",
       "1  380  40  420\n",
       "2  390  45  435"
      ]
     },
     "execution_count": 2,
     "metadata": {},
     "output_type": "execute_result"
    }
   ],
   "source": [
    "# Crie uma terceira coluna\n",
    "\n",
    "df = pd.DataFrame({\"A\": [420, 380, 390],\"B\": [50, 40, 45]})\n",
    "df[\"C\"] = df[\"A\"] + df[\"B\"]\n",
    "df"
   ]
  },
  {
   "cell_type": "markdown",
   "id": "c4fd7574",
   "metadata": {},
   "source": [
    "### **2 - Qual a diferença de iloc () e loc ()?**"
   ]
  },
  {
   "cell_type": "code",
   "execution_count": 3,
   "id": "7c6b5494",
   "metadata": {},
   "outputs": [
    {
     "name": "stdout",
     "output_type": "stream",
     "text": [
      "420\n",
      "     A   B    C\n",
      "0  420  50  470\n",
      "1  380  40  420\n",
      "\n",
      "420\n",
      "     A   B    C\n",
      "0  420  50  470\n",
      "1  380  40  420\n",
      "2  390  45  435\n"
     ]
    }
   ],
   "source": [
    "# O iloc() retorna um valor pelo número da linha e da coluna, enquato o loc() retorna um linha de valor pelo índice da linha,\n",
    "# ou um valor pelo índice da linha e da coluna. O fatiamento com os dois também é diferente, o iloc() fatia excluindo o índice\n",
    "# final, enquanto o loc fatia até o índice final. O loc() também aceita seleções condicionais, enquanto o iloc() não. Exemplo:\n",
    "\n",
    "# Valor da linha 1 e coluna C(2)\n",
    "\n",
    "por_iloc = df.iloc[1,2]\n",
    "print(por_iloc)\n",
    "\n",
    "fatiamento_iloc= df.iloc[0:2]\n",
    "print(f'{fatiamento_iloc}\\n')\n",
    "\n",
    "por_loc = df.loc[1,\"C\"]\n",
    "print(por_loc)\n",
    "\n",
    "fatiamento_loc= df.loc[0:2]\n",
    "print(fatiamento_loc)"
   ]
  },
  {
   "cell_type": "markdown",
   "id": "3f561a2a",
   "metadata": {},
   "source": [
    "### **3 - Quais são as operações em que o método groupby do Pandas é baseado?**"
   ]
  },
  {
   "cell_type": "code",
   "execution_count": 4,
   "id": "5ac8dab3",
   "metadata": {},
   "outputs": [],
   "source": [
    "# O método groupby() é baseado na divisão do objeto, aplicação de uma função e uma combinação de resultados."
   ]
  },
  {
   "cell_type": "markdown",
   "id": "afcd0180",
   "metadata": {},
   "source": [
    "### **4 - Descreva como você obterá os nomes das colunas de um DataFrame em Pandas**"
   ]
  },
  {
   "cell_type": "code",
   "execution_count": 5,
   "id": "45b863b8",
   "metadata": {},
   "outputs": [
    {
     "data": {
      "text/plain": [
       "Index(['A', 'B', 'C'], dtype='object')"
      ]
     },
     "execution_count": 5,
     "metadata": {},
     "output_type": "execute_result"
    }
   ],
   "source": [
    "# Eu consigo obter por meio da propriedade columns. Exemplo:\n",
    "\n",
    "colunas = df.columns\n",
    "colunas"
   ]
  },
  {
   "cell_type": "markdown",
   "id": "d5f90af8",
   "metadata": {},
   "source": [
    "### **5 - Como você iteraria sobre linhas em um DataFrame no Pandas?**"
   ]
  },
  {
   "cell_type": "code",
   "execution_count": 6,
   "id": "01559200",
   "metadata": {},
   "outputs": [
    {
     "name": "stdout",
     "output_type": "stream",
     "text": [
      "[420  50 470]\n",
      "[380  40 420]\n",
      "[390  45 435]\n"
     ]
    }
   ],
   "source": [
    "# Eu iteraria com o for. Exemplo:\n",
    "\n",
    "for linha in df.values:\n",
    "    print(linha)"
   ]
  },
  {
   "cell_type": "markdown",
   "id": "8c3b990b",
   "metadata": {},
   "source": [
    "### **6 - No Pandas, o que você entende como um gráfico de barras e como você pode gerar uma visualização de gráfico de barras?**"
   ]
  },
  {
   "cell_type": "code",
   "execution_count": 7,
   "id": "5791fe44",
   "metadata": {},
   "outputs": [
    {
     "data": {
      "text/plain": [
       "<AxesSubplot:>"
      ]
     },
     "execution_count": 7,
     "metadata": {},
     "output_type": "execute_result"
    },
    {
     "data": {
      "image/png": "[encoded data removed]",
      "text/plain": [
       "<Figure size 640x480 with 1 Axes>"
      ]
     },
     "metadata": {},
     "output_type": "display_data"
    }
   ],
   "source": [
    "# Um gráfico de barras é uma representação de, geralmente, 2 eixos, x e y, que normalmente representam o índice no eixo x\n",
    "# e um valor no y. No pandas, conseguimos identificar melhor os padrões e diferenças através de um gráfico de barras, pois\n",
    "# permite uma melhor visualização do usuário pela fácil representação de dados.\n",
    "\n",
    "# Conseguimos gerar um gráfico de barras através do método plot, como o exemplo abaixo:\n",
    "\n",
    "df.plot(kind='bar')"
   ]
  },
  {
   "cell_type": "markdown",
   "id": "d5bf9d2e",
   "metadata": {},
   "source": [
    "### **7 - Como verificar se um DataFrame está vazio?**"
   ]
  },
  {
   "cell_type": "code",
   "execution_count": 8,
   "id": "dbea0db3",
   "metadata": {},
   "outputs": [
    {
     "name": "stdout",
     "output_type": "stream",
     "text": [
      "False\n",
      "True\n"
     ]
    }
   ],
   "source": [
    "# Através do atributo empty, nós conseguimos verificar se o DataFrame está vazio, como os exemplos abaixo:\n",
    "\n",
    "print(df.empty)\n",
    "\n",
    "print(pd.DataFrame({'A':[]}).empty)"
   ]
  },
  {
   "cell_type": "markdown",
   "id": "1b2e9e00",
   "metadata": {},
   "source": [
    "### **8 - Defina as diferentes maneiras pelas quais um DataFrame pode ser criado no Pandas?**"
   ]
  },
  {
   "cell_type": "code",
   "execution_count": 9,
   "id": "94d4b683",
   "metadata": {},
   "outputs": [
    {
     "data": {
      "text/html": [
       "<div>\n",
       "<style scoped>\n",
       "    .dataframe tbody tr th:only-of-type {\n",
       "        vertical-align: middle;\n",
       "    }\n",
       "\n",
       "    .dataframe tbody tr th {\n",
       "        vertical-align: top;\n",
       "    }\n",
       "\n",
       "    .dataframe thead th {\n",
       "        text-align: right;\n",
       "    }\n",
       "</style>\n",
       "<table border=\"1\" class=\"dataframe\">\n",
       "  <thead>\n",
       "    <tr style=\"text-align: right;\">\n",
       "      <th></th>\n",
       "      <th>0</th>\n",
       "    </tr>\n",
       "  </thead>\n",
       "  <tbody>\n",
       "    <tr>\n",
       "      <th>0</th>\n",
       "      <td>10</td>\n",
       "    </tr>\n",
       "    <tr>\n",
       "      <th>1</th>\n",
       "      <td>20</td>\n",
       "    </tr>\n",
       "    <tr>\n",
       "      <th>2</th>\n",
       "      <td>30</td>\n",
       "    </tr>\n",
       "  </tbody>\n",
       "</table>\n",
       "</div>"
      ],
      "text/plain": [
       "    0\n",
       "0  10\n",
       "1  20\n",
       "2  30"
      ]
     },
     "metadata": {},
     "output_type": "display_data"
    }
   ],
   "source": [
    "# Temos algumas maneiras diferentes de se criar DataFrames em pandas, pra isso nós usamos o método read_<extensão> ou o método\n",
    "# DataFrame para converter uma estrutura ou coleções em DataFrame, das quais podemos exemplicar:\n",
    "\n",
    "# Arquivos de diferentes extensões, como .csv, .xlsx, .json, .xml\n",
    "\n",
    "# df_file_xlsx = pd.read_excel('<path>')\n",
    "# df_file_csv = pd.read_csv('<path>')\n",
    "\n",
    "# Listas\n",
    "df_lista = pd.DataFrame([10,20,30])\n",
    "display(df_lista)\n",
    "\n",
    "# Listas de listas, ou matriz\n",
    "df_matriz = pd.DataFrame([['Diretor', 5000], ['Coordenador', 3800], ['Funcionário', 2500]])\n",
    "\n",
    "# Dicionários\n",
    "df_dict = pd.DataFrame({'Cargo':['Diretor','Coordenador','Funcionário'], 'Salário': [5000, 3800, 2500]})\n",
    "\n",
    "\n",
    "# Lista de dicionários\n",
    "df_dict_list = pd.DataFrame([{'Vendas': 1, 'Custo': 2, 'Lucro': 3}, {'Vendas': 10, 'Custo': 20, 'Lucro': 30}])\n",
    "\n",
    "\n",
    "# Series\n",
    "number_list = pd.Series([10,20,30])\n",
    "number_list = pd.DataFrame(number_list)"
   ]
  },
  {
   "cell_type": "markdown",
   "id": "f408c0cd",
   "metadata": {},
   "source": [
    "### **9 - Por que fazer uma cópia de um DataFrame em Pandas?**"
   ]
  },
  {
   "cell_type": "code",
   "execution_count": 10,
   "id": "f7c6b0a6",
   "metadata": {},
   "outputs": [],
   "source": [
    "# É importante fazer uma cópia de segurança para poder ter salvo o original caso a gente faça alguma alteração que precisamos\n",
    "# reverter depois. Caso eu atribuísse a uma variável o df original, ou mesmo uma parte dele, se o alterarmos, o original também\n",
    "# será alterado, então usando o método copy() temos a certeza de fazer uma cópia que não será alterada com alterações no original."
   ]
  },
  {
   "cell_type": "markdown",
   "id": "b119a164",
   "metadata": {},
   "source": [
    "### **10 - O que o operador in faz nos Pandas?**"
   ]
  },
  {
   "cell_type": "code",
   "execution_count": 11,
   "id": "af794c2b",
   "metadata": {},
   "outputs": [
    {
     "name": "stdout",
     "output_type": "stream",
     "text": [
      "[420  50 470]\n",
      "[380  40 420]\n"
     ]
    },
    {
     "data": {
      "text/html": [
       "<div>\n",
       "<style scoped>\n",
       "    .dataframe tbody tr th:only-of-type {\n",
       "        vertical-align: middle;\n",
       "    }\n",
       "\n",
       "    .dataframe tbody tr th {\n",
       "        vertical-align: top;\n",
       "    }\n",
       "\n",
       "    .dataframe thead th {\n",
       "        text-align: right;\n",
       "    }\n",
       "</style>\n",
       "<table border=\"1\" class=\"dataframe\">\n",
       "  <thead>\n",
       "    <tr style=\"text-align: right;\">\n",
       "      <th></th>\n",
       "      <th>A</th>\n",
       "      <th>B</th>\n",
       "      <th>C</th>\n",
       "    </tr>\n",
       "  </thead>\n",
       "  <tbody>\n",
       "    <tr>\n",
       "      <th>0</th>\n",
       "      <td>True</td>\n",
       "      <td>False</td>\n",
       "      <td>False</td>\n",
       "    </tr>\n",
       "    <tr>\n",
       "      <th>1</th>\n",
       "      <td>False</td>\n",
       "      <td>False</td>\n",
       "      <td>True</td>\n",
       "    </tr>\n",
       "    <tr>\n",
       "      <th>2</th>\n",
       "      <td>False</td>\n",
       "      <td>False</td>\n",
       "      <td>False</td>\n",
       "    </tr>\n",
       "  </tbody>\n",
       "</table>\n",
       "</div>"
      ],
      "text/plain": [
       "       A      B      C\n",
       "0   True  False  False\n",
       "1  False  False   True\n",
       "2  False  False  False"
      ]
     },
     "execution_count": 11,
     "metadata": {},
     "output_type": "execute_result"
    }
   ],
   "source": [
    "# Podemos usar o operador in como no python para verificar e iterar o nosso DataFrame. Mas o mais usado seria o método isin()\n",
    "# que retorna um valor True ou False caso o valor esteja contido em algum dos valores do DataFrame. Exemplos abaixo:\n",
    " \n",
    "for cell in df.values:\n",
    "    if 420 in cell:\n",
    "        print(cell)\n",
    "\n",
    "df.isin([420])"
   ]
  }
 ],
 "metadata": {
  "kernelspec": {
   "display_name": "Python 3 (ipykernel)",
   "language": "python",
   "name": "python3"
  },
  "language_info": {
   "codemirror_mode": {
    "name": "ipython",
    "version": 3
   },
   "file_extension": ".py",
   "mimetype": "text/x-python",
   "name": "python",
   "nbconvert_exporter": "python",
   "pygments_lexer": "ipython3",
   "version": "3.9.13"
  }
 },
 "nbformat": 4,
 "nbformat_minor": 5
}
